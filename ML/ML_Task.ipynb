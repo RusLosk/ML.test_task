{
 "cells": [
  {
   "cell_type": "code",
   "execution_count": 6,
   "id": "a37adb9a-d1c8-4185-aee3-28d7adda3194",
   "metadata": {},
   "outputs": [
    {
     "name": "stdout",
     "output_type": "stream",
     "text": [
      "Classification Report:\n",
      "              precision    recall  f1-score   support\n",
      "\n",
      "       False       1.00      1.00      1.00     24722\n",
      "        True       1.00      1.00      1.00      7851\n",
      "\n",
      "    accuracy                           1.00     32573\n",
      "   macro avg       1.00      1.00      1.00     32573\n",
      "weighted avg       1.00      1.00      1.00     32573\n",
      "\n",
      "Accuracy: 0.9999692997267675\n"
     ]
    }
   ],
   "source": [
    "import pandas as pd\n",
    "import numpy as np\n",
    "from sklearn.model_selection import train_test_split\n",
    "from sklearn.preprocessing import LabelEncoder\n",
    "from sklearn.ensemble import RandomForestClassifier\n",
    "from sklearn.metrics import classification_report, accuracy_score\n",
    "\n",
    "column_names = [\"age\", \"workclass\", \"final_weight\", \"education\", \"education-num\", \"marital-status\", \n",
    "                \"occupation\", \"relationship\", \"race\", \"sex\", \"cap-gain\", \"cap-loss\", \"hours-per-week\", \n",
    "                \"native-country\", \"smaller/bigger\"]\n",
    "\n",
    "train_data = pd.read_csv(\"train.txt\", header=None, names=column_names, na_values=\" ?\")\n",
    "test_data = pd.read_csv(\"test.txt\", header=None, names=column_names[:-1], na_values=\" ?\")\n",
    "\n",
    "original_test_data = test_data.copy()\n",
    "\n",
    "for column in train_data.columns:\n",
    "    if train_data[column].dtype == \"object\":\n",
    "        train_data[column] = train_data[column].fillna(\"?\")\n",
    "    else:\n",
    "        train_data[column] = train_data[column].fillna(train_data[column].median())\n",
    "\n",
    "train_data[\"smaller/bigger\"] = train_data[\"smaller/bigger\"].apply(lambda x: True if x.strip() == \">N\" else False)\n",
    "\n",
    "label_encoders = {}\n",
    "for column in train_data.select_dtypes(include=[\"object\"]).columns:\n",
    "    le = LabelEncoder()\n",
    "    train_data[column] = le.fit_transform(train_data[column])\n",
    "    label_encoders[column] = le\n",
    "\n",
    "X_train = train_data.drop(\"smaller/bigger\", axis=1)\n",
    "y_train = train_data[\"smaller/bigger\"]\n",
    "\n",
    "model = RandomForestClassifier(random_state=42)\n",
    "model.fit(X_train, y_train)\n",
    "\n",
    "for column in test_data.columns:\n",
    "    if test_data[column].dtype == \"object\":\n",
    "        test_data[column] = test_data[column].fillna(\"?\")\n",
    "    else:\n",
    "        test_data[column] = test_data[column].fillna(test_data[column].median())\n",
    "\n",
    "for column, le in label_encoders.items():\n",
    "    test_data[column] = test_data[column].apply(lambda x: x if x in le.classes_ else \"UNKNOWN\")\n",
    "    le.classes_ = np.append(le.classes_, \"UNKNOWN\")\n",
    "    test_data[column] = le.transform(test_data[column])\n",
    "\n",
    "y_pred = model.predict(test_data)\n",
    "\n",
    "y_pred = np.where(y_pred, 'bigger', 'smaller')\n",
    "\n",
    "report = classification_report(y_train, model.predict(X_train))\n",
    "accuracy = accuracy_score(y_train, model.predict(X_train))\n",
    "\n",
    "print(f\"Classification Report:\\n{report}\")\n",
    "print(f\"Accuracy: {accuracy}\")\n",
    "\n",
    "with open(\"results.html\", \"w\") as f:\n",
    "    f.write(f\"<h1>Classification Report</h1><pre>{report}</pre>\")\n",
    "    f.write(f\"<h1>Accuracy</h1><p>{accuracy}</p>\")\n",
    "\n",
    "original_test_data[\"predicted_smaller/bigger\"] = y_pred\n",
    "\n",
    "original_test_data.to_html(\"test_predictions.html\", index=False)"
   ]
  },
  {
   "cell_type": "code",
   "execution_count": null,
   "id": "d9a62053-0cd6-4a52-9142-31cb1f9b332d",
   "metadata": {},
   "outputs": [],
   "source": []
  }
 ],
 "metadata": {
  "kernelspec": {
   "display_name": "Python 3 (ipykernel)",
   "language": "python",
   "name": "python3"
  },
  "language_info": {
   "codemirror_mode": {
    "name": "ipython",
    "version": 3
   },
   "file_extension": ".py",
   "mimetype": "text/x-python",
   "name": "python",
   "nbconvert_exporter": "python",
   "pygments_lexer": "ipython3",
   "version": "3.12.2"
  }
 },
 "nbformat": 4,
 "nbformat_minor": 5
}
